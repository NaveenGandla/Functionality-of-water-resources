{
 "cells": [
  {
   "cell_type": "code",
   "execution_count": 1,
   "metadata": {},
   "outputs": [
    {
     "data": {
      "application/javascript": [
       "Jupyter.keyboard_manager.command_shortcuts.remove_shortcut('up');\n",
       "Jupyter.keyboard_manager.command_shortcuts.remove_shortcut('down');"
      ],
      "text/plain": [
       "<IPython.core.display.Javascript object>"
      ]
     },
     "metadata": {},
     "output_type": "display_data"
    }
   ],
   "source": [
    "%%javascript\n",
    "Jupyter.keyboard_manager.command_shortcuts.remove_shortcut('up');\n",
    "Jupyter.keyboard_manager.command_shortcuts.remove_shortcut('down');"
   ]
  },
  {
   "cell_type": "code",
   "execution_count": 2,
   "metadata": {},
   "outputs": [
    {
     "name": "stderr",
     "output_type": "stream",
     "text": [
      "C:\\ProgramData\\Anaconda3\\lib\\site-packages\\sklearn\\cross_validation.py:41: DeprecationWarning: This module was deprecated in version 0.18 in favor of the model_selection module into which all the refactored classes and functions are moved. Also note that the interface of the new CV iterators are different from that of this module. This module will be removed in 0.20.\n",
      "  \"This module will be removed in 0.20.\", DeprecationWarning)\n"
     ]
    }
   ],
   "source": [
    "import pandas as pd\n",
    "import pandas as pd\n",
    "import seaborn as sns\n",
    "import matplotlib.pyplot as plt\n",
    "import matplotlib\n",
    "from sklearn import metrics\n",
    "from sklearn.cross_validation import train_test_split\n",
    "from sklearn.metrics import classification_report\n",
    "from sklearn.metrics import confusion_matrix\n",
    "import numpy as np\n",
    "import random"
   ]
  },
  {
   "cell_type": "code",
   "execution_count": 3,
   "metadata": {},
   "outputs": [],
   "source": [
    "data_train_x = pd.read_csv(\"train-1541136939101.csv\")\n",
    "data_test = pd.read_csv(\"test-1541136939101.csv\")\n",
    "y_train = pd.read_csv(\"trainlabels-1541136939101.csv\")"
   ]
  },
  {
   "cell_type": "code",
   "execution_count": 4,
   "metadata": {
    "scrolled": true
   },
   "outputs": [
    {
     "name": "stdout",
     "output_type": "stream",
     "text": [
      "(44068, 34)\n",
      "(44068, 2)\n",
      "(11015, 34)\n"
     ]
    }
   ],
   "source": [
    "print(data_train_x.shape)\n",
    "print(y_train.shape)\n",
    "print(data_test.shape)"
   ]
  },
  {
   "cell_type": "code",
   "execution_count": 5,
   "metadata": {},
   "outputs": [
    {
     "name": "stderr",
     "output_type": "stream",
     "text": [
      "C:\\ProgramData\\Anaconda3\\lib\\site-packages\\pandas\\core\\frame.py:6201: FutureWarning: Sorting because non-concatenation axis is not aligned. A future version\n",
      "of pandas will change to not sort by default.\n",
      "\n",
      "To accept the future behavior, pass 'sort=True'.\n",
      "\n",
      "To retain the current behavior and silence the warning, pass sort=False\n",
      "\n",
      "  sort=sort)\n"
     ]
    }
   ],
   "source": [
    "\n",
    "data_train = pd.concat([data_train_x.set_index('Id'),y_train.set_index('id')], axis=1, join='inner').reset_index()\n",
    "#data_train['index'] = 'Id'\n",
    "data_train.rename(columns={'index':'Id',},inplace=True)\n",
    "\n",
    "data_train_x = pd.concat([data_train_x.set_index('Id'),y_train.set_index('id')], axis=1, join='inner').reset_index()\n",
    "data_train_x.rename(columns={'index':'Id',},inplace=True)\n",
    "\n",
    "#Adding the test dataset to train#\n",
    "data_train = data_train.append(data_test, ignore_index=True)"
   ]
  },
  {
   "cell_type": "code",
   "execution_count": 6,
   "metadata": {},
   "outputs": [
    {
     "data": {
      "text/plain": [
       "(55083, 35)"
      ]
     },
     "execution_count": 6,
     "metadata": {},
     "output_type": "execute_result"
    }
   ],
   "source": [
    "data_train.shape"
   ]
  },
  {
   "cell_type": "code",
   "execution_count": 7,
   "metadata": {},
   "outputs": [
    {
     "data": {
      "text/plain": [
       "2047     1\n",
       "8721     1\n",
       "53775    1\n",
       "49677    1\n",
       "51724    1\n",
       "Name: Id, dtype: int64"
      ]
     },
     "execution_count": 7,
     "metadata": {},
     "output_type": "execute_result"
    }
   ],
   "source": [
    "data_train.Id.value_counts().head()\n",
    "#This represents that the ID are unique there are no multiple data collection of single well"
   ]
  },
  {
   "cell_type": "code",
   "execution_count": 8,
   "metadata": {
    "scrolled": true
   },
   "outputs": [
    {
     "data": {
      "text/plain": [
       "<matplotlib.axes._subplots.AxesSubplot at 0xb08bbb00f0>"
      ]
     },
     "execution_count": 8,
     "metadata": {},
     "output_type": "execute_result"
    },
    {
     "data": {
      "image/png": "[encoded data removed]",
      "text/plain": [
       "<Figure size 432x288 with 1 Axes>"
      ]
     },
     "metadata": {},
     "output_type": "display_data"
    }
   ],
   "source": [
    "freq_y = data_train_x.Status.value_counts()\n",
    "freq_y_df = pd.DataFrame(freq_y.reset_index())\n",
    "freq_y_df.Status.sum()\n",
    "sns.countplot(x=\"Status\", data=data_train)"
   ]
  },
  {
   "cell_type": "code",
   "execution_count": 9,
   "metadata": {},
   "outputs": [
    {
     "name": "stdout",
     "output_type": "stream",
     "text": [
      "the percentage of Functional records are 58.56403739675048\n",
      "the percentage of Non-Functional records are 41.43596260324952\n"
     ]
    }
   ],
   "source": [
    "print(\"the percentage of Functional records are\",freq_y_df.Status[0]/freq_y_df.Status.sum() *100)\n",
    "print(\"the percentage of Non-Functional records are\",freq_y_df.Status[1]/freq_y_df.Status.sum() *100)\n",
    "#This tells that the data is not too imbalanced and we can approach wither with down-sampling."
   ]
  },
  {
   "cell_type": "code",
   "execution_count": 10,
   "metadata": {},
   "outputs": [
    {
     "data": {
      "text/plain": [
       "functional        25808\n",
       "non functional    18260\n",
       "Name: Status, dtype: int64"
      ]
     },
     "execution_count": 10,
     "metadata": {},
     "output_type": "execute_result"
    }
   ],
   "source": [
    "freq_y"
   ]
  },
  {
   "cell_type": "markdown",
   "metadata": {},
   "source": [
    "## Working out on NA values"
   ]
  },
  {
   "cell_type": "code",
   "execution_count": 11,
   "metadata": {
    "scrolled": false
   },
   "outputs": [
    {
     "data": {
      "text/plain": [
       "Amount_of_water              0\n",
       "Basin_name                   0\n",
       "Company_installed         2603\n",
       "District_code                0\n",
       "Extraction_type              0\n",
       "Extraction_type_class        0\n",
       "Extraction_type_group        0\n",
       "Gps_height                   0\n",
       "Id                           0\n",
       "Management                   0\n",
       "Management_group             0\n",
       "Organization_funding      2600\n",
       "Organization_surveyed        0\n",
       "Payment                      0\n",
       "Payment_type                 0\n",
       "Permit                    2756\n",
       "Population                   0\n",
       "Public_meeting            3178\n",
       "Quality_group                0\n",
       "Quantity                     0\n",
       "Quantity_group               0\n",
       "Region_code                  0\n",
       "Regionname                   0\n",
       "SchemeName               26162\n",
       "Scheme_management         3654\n",
       "Source                       0\n",
       "Source_class                 0\n",
       "Source_type                  0\n",
       "Status                   11015\n",
       "Village                      0\n",
       "Wardname                     0\n",
       "Water_quality                0\n",
       "Waterpoint_type              0\n",
       "Waterpoint_type_group        0\n",
       "Waterpointname               0\n",
       "dtype: int64"
      ]
     },
     "execution_count": 11,
     "metadata": {},
     "output_type": "execute_result"
    }
   ],
   "source": [
    "data_train.isna().sum()\n",
    "#six columns with one column having more than 50% NA \n",
    "#whereas all the other columns have around 7% which can be imputed"
   ]
  },
  {
   "cell_type": "code",
   "execution_count": 12,
   "metadata": {},
   "outputs": [],
   "source": [
    "data_train.drop(\"SchemeName\",inplace=True,axis=1)  #This column contains high amount of NA values hance discarding"
   ]
  },
  {
   "cell_type": "code",
   "execution_count": 13,
   "metadata": {},
   "outputs": [
    {
     "name": "stdout",
     "output_type": "stream",
     "text": [
      "True     47292\n",
      "False     4613\n",
      "Name: Public_meeting, dtype: int64\n",
      "The number of NA values in Public_meeting column: 3178\n"
     ]
    }
   ],
   "source": [
    "print(data_train.Public_meeting.value_counts())\n",
    "print(\"The number of NA values in Public_meeting column:\",data_train.Public_meeting.isna().sum())"
   ]
  },
  {
   "cell_type": "code",
   "execution_count": 14,
   "metadata": {},
   "outputs": [
    {
     "data": {
      "text/plain": [
       "<matplotlib.axes._subplots.AxesSubplot at 0xb08b88ceb8>"
      ]
     },
     "execution_count": 14,
     "metadata": {},
     "output_type": "execute_result"
    },
    {
     "data": {
      "image/png": "[encoded data removed]",
      "text/plain": [
       "<Figure size 432x288 with 1 Axes>"
      ]
     },
     "metadata": {},
     "output_type": "display_data"
    }
   ],
   "source": [
    "sns.countplot(x=\"Public_meeting\", data=data_train)\n",
    "#Imbalanced class this means we can impute NA with True"
   ]
  },
  {
   "cell_type": "code",
   "execution_count": 15,
   "metadata": {},
   "outputs": [
    {
     "data": {
      "text/plain": [
       "<matplotlib.axes._subplots.AxesSubplot at 0xb08b93b0f0>"
      ]
     },
     "execution_count": 15,
     "metadata": {},
     "output_type": "execute_result"
    },
    {
     "data": {
      "image/png": "[encoded data removed]",
      "text/plain": [
       "<Figure size 720x576 with 1 Axes>"
      ]
     },
     "metadata": {},
     "output_type": "display_data"
    }
   ],
   "source": [
    "train_public_meeting = data_train.groupby(['Public_meeting','Status']).size()\n",
    "train_public_meeting_stack = train_public_meeting.unstack(1).fillna('0')\n",
    "train_public_meeting_stack.plot(kind='bar',figsize=(10,8),\n",
    "                                   title='Public_meeting NA and Status',grid=True,legend='True',\n",
    "                                   fontsize=12, rot='horizontal')\n",
    "\n",
    "#By digging deeper, if public_meeting is true then 60% of the time it is functional.\n",
    "#So placing True where the Status is functional and true where the status is non-functional is \n",
    "#going to help"
   ]
  },
  {
   "cell_type": "code",
   "execution_count": 16,
   "metadata": {},
   "outputs": [],
   "source": [
    "data_train['Public_meeting'] = data_train.fillna(data_train['Public_meeting'].value_counts().index[0])"
   ]
  },
  {
   "cell_type": "markdown",
   "metadata": {},
   "source": [
    "### Organization Funding"
   ]
  },
  {
   "cell_type": "code",
   "execution_count": 17,
   "metadata": {},
   "outputs": [
    {
     "data": {
      "text/plain": [
       "2632"
      ]
     },
     "execution_count": 17,
     "metadata": {},
     "output_type": "execute_result"
    }
   ],
   "source": [
    "data_train.Organization_funding.nunique()\n",
    "#There are way too many classes to build model on.\n",
    "#So we will not be considering this for model building"
   ]
  },
  {
   "cell_type": "code",
   "execution_count": 18,
   "metadata": {},
   "outputs": [],
   "source": [
    "data_train.drop(\"Organization_funding\",axis=1, inplace=True)"
   ]
  },
  {
   "cell_type": "markdown",
   "metadata": {},
   "source": [
    "### Scheme Management"
   ]
  },
  {
   "cell_type": "code",
   "execution_count": 19,
   "metadata": {},
   "outputs": [
    {
     "data": {
      "text/plain": [
       "12"
      ]
     },
     "execution_count": 19,
     "metadata": {},
     "output_type": "execute_result"
    }
   ],
   "source": [
    "data_train.Scheme_management.nunique()"
   ]
  },
  {
   "cell_type": "code",
   "execution_count": 20,
   "metadata": {},
   "outputs": [
    {
     "data": {
      "text/plain": [
       "VWC                 34459\n",
       "WUG                  4534\n",
       "Water authority      2705\n",
       "WUA                  2644\n",
       "Water Board          2637\n",
       "Parastatal           1478\n",
       "Private operator     1040\n",
       "Company              1024\n",
       "Other                 744\n",
       "SWC                    96\n",
       "Trust                  67\n",
       "None                    1\n",
       "Name: Scheme_management, dtype: int64"
      ]
     },
     "execution_count": 20,
     "metadata": {},
     "output_type": "execute_result"
    }
   ],
   "source": [
    "data_train.Scheme_management.value_counts()"
   ]
  },
  {
   "cell_type": "code",
   "execution_count": 21,
   "metadata": {},
   "outputs": [
    {
     "data": {
      "text/plain": [
       "<matplotlib.axes._subplots.AxesSubplot at 0xb08b9b1588>"
      ]
     },
     "execution_count": 21,
     "metadata": {},
     "output_type": "execute_result"
    },
    {
     "data": {
      "image/png": "[encoded data removed]",
      "text/plain": [
       "<Figure size 1224x576 with 1 Axes>"
      ]
     },
     "metadata": {},
     "output_type": "display_data"
    }
   ],
   "source": [
    "train_scheme_management = data_train.groupby(['Scheme_management','Status']).size()\n",
    "train_scheme_management_stack = train_scheme_management.unstack(1).fillna('0')\n",
    "train_scheme_management_stack.plot(kind='bar',figsize=(17,8)\n",
    "                                ,grid=True,legend='True',\n",
    "                                   fontsize=12, rot='horizontal')\n",
    "\n",
    "#This is an interesting pattern.\n",
    "#All scheme management records are under functional. This means that the records that have NA in scheme management\n",
    "#are not functional. So we can assign None to tha NA records"
   ]
  },
  {
   "cell_type": "code",
   "execution_count": 22,
   "metadata": {},
   "outputs": [
    {
     "data": {
      "text/plain": [
       "VWC                 34459\n",
       "WUG                  4534\n",
       "Water authority      2705\n",
       "WUA                  2644\n",
       "Water Board          2637\n",
       "Parastatal           1478\n",
       "Private operator     1040\n",
       "Company              1024\n",
       "Other                 744\n",
       "SWC                    96\n",
       "Trust                  67\n",
       "None                    1\n",
       "Name: Scheme_management, dtype: int64"
      ]
     },
     "execution_count": 22,
     "metadata": {},
     "output_type": "execute_result"
    }
   ],
   "source": [
    "data_train.Scheme_management.value_counts()"
   ]
  },
  {
   "cell_type": "code",
   "execution_count": 23,
   "metadata": {
    "scrolled": true
   },
   "outputs": [],
   "source": [
    "data_train= data_train.fillna(data_train.Scheme_management.value_counts().index[11])"
   ]
  },
  {
   "cell_type": "markdown",
   "metadata": {},
   "source": [
    "### Permit"
   ]
  },
  {
   "cell_type": "code",
   "execution_count": 24,
   "metadata": {},
   "outputs": [
    {
     "data": {
      "text/plain": [
       "3"
      ]
     },
     "execution_count": 24,
     "metadata": {},
     "output_type": "execute_result"
    }
   ],
   "source": [
    "data_train.Permit.nunique()"
   ]
  },
  {
   "cell_type": "code",
   "execution_count": 25,
   "metadata": {},
   "outputs": [
    {
     "data": {
      "text/plain": [
       "True     36155\n",
       "False    16172\n",
       "None      2756\n",
       "Name: Permit, dtype: int64"
      ]
     },
     "execution_count": 25,
     "metadata": {},
     "output_type": "execute_result"
    }
   ],
   "source": [
    "data_train.Permit.value_counts()"
   ]
  },
  {
   "cell_type": "code",
   "execution_count": 26,
   "metadata": {},
   "outputs": [
    {
     "data": {
      "image/png": "[encoded data removed]",
      "text/plain": [
       "<Figure size 360x360 with 1 Axes>"
      ]
     },
     "metadata": {},
     "output_type": "display_data"
    }
   ],
   "source": [
    "plot = data_train.Permit.value_counts().plot.pie(y='Permit', figsize=(5, 5), startangle=90, autopct='%.1f%%')"
   ]
  },
  {
   "cell_type": "code",
   "execution_count": 27,
   "metadata": {},
   "outputs": [
    {
     "data": {
      "text/plain": [
       "functional        25808\n",
       "non functional    18260\n",
       "None              11015\n",
       "Name: Status, dtype: int64"
      ]
     },
     "execution_count": 27,
     "metadata": {},
     "output_type": "execute_result"
    }
   ],
   "source": [
    "data_train.Status.value_counts()"
   ]
  },
  {
   "cell_type": "code",
   "execution_count": 28,
   "metadata": {},
   "outputs": [
    {
     "data": {
      "text/plain": [
       "<matplotlib.axes._subplots.AxesSubplot at 0xb08b9d1208>"
      ]
     },
     "execution_count": 28,
     "metadata": {},
     "output_type": "execute_result"
    },
    {
     "data": {
      "image/png": "[encoded data removed]",
      "text/plain": [
       "<Figure size 576x288 with 1 Axes>"
      ]
     },
     "metadata": {},
     "output_type": "display_data"
    }
   ],
   "source": [
    "train_permit = data_train.groupby(['Permit','Status']).size()\n",
    "train_permit_stack = train_permit.unstack(1).fillna('0')\n",
    "train_permit_stack.plot(kind='bar',figsize=(8,4),\n",
    "                                   legend='True',\n",
    "                                   fontsize=12, rot='horizontal')"
   ]
  },
  {
   "cell_type": "code",
   "execution_count": 29,
   "metadata": {},
   "outputs": [],
   "source": [
    "#We will go by replacing it randomly\n",
    "data_train = data_train.fillna(data_train['Permit'].value_counts().index[0])"
   ]
  },
  {
   "cell_type": "code",
   "execution_count": null,
   "metadata": {},
   "outputs": [],
   "source": []
  },
  {
   "cell_type": "markdown",
   "metadata": {},
   "source": [
    "### Company_installed"
   ]
  },
  {
   "cell_type": "code",
   "execution_count": 30,
   "metadata": {},
   "outputs": [
    {
     "name": "stdout",
     "output_type": "stream",
     "text": [
      "The number of unique companies present are: 2646\n",
      "Companies that created most wells: Iorg1388    14168\n",
      "None         2603\n",
      "IORG1388     2376\n",
      "Iorg1510     1468\n",
      "Iorg504      1016\n",
      "Name: Company_installed, dtype: int64\n"
     ]
    }
   ],
   "source": [
    "#Company_installed Column\n",
    "print(\"The number of unique companies present are:\",data_train.Company_installed.nunique())\n",
    "print(\"Companies that created most wells:\",data_train.Company_installed.value_counts().head())\n",
    "#This clearly states that the companies are many and the project is allocated to different firms "
   ]
  },
  {
   "cell_type": "code",
   "execution_count": 31,
   "metadata": {
    "scrolled": true
   },
   "outputs": [
    {
     "name": "stdout",
     "output_type": "stream",
     "text": [
      "Top 5 companies based on number of wells created: 21631\n"
     ]
    }
   ],
   "source": [
    "data_company_installed = pd.DataFrame(data_train.Company_installed.value_counts().head())\n",
    "print(\"Top 5 companies based on number of wells created:\",data_train.Company_installed.value_counts().head().sum())"
   ]
  },
  {
   "cell_type": "code",
   "execution_count": 32,
   "metadata": {},
   "outputs": [
    {
     "data": {
      "text/html": [
       "<div>\n",
       "<style scoped>\n",
       "    .dataframe tbody tr th:only-of-type {\n",
       "        vertical-align: middle;\n",
       "    }\n",
       "\n",
       "    .dataframe tbody tr th {\n",
       "        vertical-align: top;\n",
       "    }\n",
       "\n",
       "    .dataframe thead th {\n",
       "        text-align: right;\n",
       "    }\n",
       "</style>\n",
       "<table border=\"1\" class=\"dataframe\">\n",
       "  <thead>\n",
       "    <tr style=\"text-align: right;\">\n",
       "      <th></th>\n",
       "      <th>Company_installed</th>\n",
       "    </tr>\n",
       "  </thead>\n",
       "  <tbody>\n",
       "    <tr>\n",
       "      <th>Iorg1388</th>\n",
       "      <td>14168</td>\n",
       "    </tr>\n",
       "    <tr>\n",
       "      <th>None</th>\n",
       "      <td>2603</td>\n",
       "    </tr>\n",
       "    <tr>\n",
       "      <th>IORG1388</th>\n",
       "      <td>2376</td>\n",
       "    </tr>\n",
       "    <tr>\n",
       "      <th>Iorg1510</th>\n",
       "      <td>1468</td>\n",
       "    </tr>\n",
       "    <tr>\n",
       "      <th>Iorg504</th>\n",
       "      <td>1016</td>\n",
       "    </tr>\n",
       "  </tbody>\n",
       "</table>\n",
       "</div>"
      ],
      "text/plain": [
       "          Company_installed\n",
       "Iorg1388              14168\n",
       "None                   2603\n",
       "IORG1388               2376\n",
       "Iorg1510               1468\n",
       "Iorg504                1016"
      ]
     },
     "execution_count": 32,
     "metadata": {},
     "output_type": "execute_result"
    }
   ],
   "source": [
    "data_train_comapny_installed = pd.DataFrame(data_train.Company_installed.value_counts().head())\n",
    "data_train_comapny_installed"
   ]
  },
  {
   "cell_type": "code",
   "execution_count": 33,
   "metadata": {},
   "outputs": [],
   "source": [
    "#We can neglect this column as this has many companies \n",
    "data_train.drop(\"Company_installed\",inplace=True,axis=1)"
   ]
  },
  {
   "cell_type": "code",
   "execution_count": null,
   "metadata": {},
   "outputs": [],
   "source": []
  },
  {
   "cell_type": "markdown",
   "metadata": {},
   "source": [
    "## Formatting the data"
   ]
  },
  {
   "cell_type": "code",
   "execution_count": 34,
   "metadata": {},
   "outputs": [],
   "source": [
    "categoricalFeatureNames =[\"Waterpointname\",\"Waterpoint_type\",\"Basin_name\",\"Village\",\n",
    "                         \"Regionname\",\"Region_code\",\"Wardname\",\"District_code\",\"Management\",\n",
    "                         \"Management_group\",\"Extraction_type\",\"Extraction_type_group\",\n",
    "                         \"Extraction_type_class\",\"Payment\",\"Payment_type\",\"Water_quality\",\"Quality_group\",\"Quantity_group\",\n",
    "                         \"Source\",\"Source_type\",\"Source_class\",\"Waterpoint_type_group\",\"Status\",\"Quantity\"]\n",
    "\n",
    "for var in categoricalFeatureNames:\n",
    "    data_train[var] = data_train[var].astype(\"category\")\n",
    "    \n",
    "NumericalFeatureNames = [\"Amount_of_water\",\"Gps_height\",\"Population\"]\n",
    "\n",
    "\n",
    "for var in NumericalFeatureNames:\n",
    "    data_train[var] = data_train[var].astype(\"float\")"
   ]
  },
  {
   "cell_type": "code",
   "execution_count": 35,
   "metadata": {},
   "outputs": [
    {
     "name": "stdout",
     "output_type": "stream",
     "text": [
      "Waterpointname --- 35005\n",
      "Waterpoint_type --- 7\n",
      "Basin_name --- 9\n",
      "Village --- 18483\n",
      "Regionname --- 21\n",
      "Region_code --- 27\n",
      "Wardname --- 2090\n",
      "District_code --- 20\n",
      "Management --- 12\n",
      "Management_group --- 5\n",
      "Extraction_type --- 18\n",
      "Extraction_type_group --- 13\n",
      "Extraction_type_class --- 7\n",
      "Payment --- 7\n",
      "Payment_type --- 7\n",
      "Water_quality --- 8\n",
      "Quality_group --- 6\n",
      "Quantity_group --- 5\n",
      "Source --- 10\n",
      "Source_type --- 7\n",
      "Source_class --- 3\n",
      "Waterpoint_type_group --- 6\n",
      "Status --- 3\n",
      "Quantity --- 5\n"
     ]
    }
   ],
   "source": [
    "for c in categoricalFeatureNames:\n",
    "    print(\"%s ---\" % c,data_train[c].nunique())\n",
    "#From this we can rule out Waterpointname, Village, Wardname as these columns create more dummies and\n",
    "#having so large numbers wont help"
   ]
  },
  {
   "cell_type": "code",
   "execution_count": 36,
   "metadata": {},
   "outputs": [],
   "source": [
    "data_train.drop([\"Waterpointname\",\"Village\",\"Wardname\"],axis=1, inplace=True)"
   ]
  },
  {
   "cell_type": "markdown",
   "metadata": {},
   "source": [
    "## Checking data present in each columna"
   ]
  },
  {
   "cell_type": "code",
   "execution_count": 37,
   "metadata": {
    "scrolled": true
   },
   "outputs": [
    {
     "name": "stdout",
     "output_type": "stream",
     "text": [
      "Basin_name --- basin5    9259\n",
      "basin6    8463\n",
      "basin7    7539\n",
      "basin1    7228\n",
      "basin9    5718\n",
      "basin4    5690\n",
      "basin2    4835\n",
      "basin8    4167\n",
      "basin3    2184\n",
      "Name: Basin_name, dtype: int64\n",
      "District_code --- 1     10916\n",
      "2     10329\n",
      "3      9299\n",
      "4      8490\n",
      "5      4162\n",
      "6      3842\n",
      "7      3129\n",
      "8       990\n",
      "30      909\n",
      "33      776\n",
      "53      719\n",
      "43      497\n",
      "13      362\n",
      "23      267\n",
      "63      190\n",
      "62      109\n",
      "60       60\n",
      "0        21\n",
      "80       11\n",
      "67        5\n",
      "Name: District_code, dtype: int64\n",
      "Extraction_type --- gravity                      24079\n",
      "nira/tanira                   7513\n",
      "other                         6224\n",
      "submersible                   4537\n",
      "swn 80                        3458\n",
      "mono                          2736\n",
      "india mark ii                 2321\n",
      "afridev                       1728\n",
      "ksb                           1389\n",
      "other - rope pump              434\n",
      "other - swn 81                 222\n",
      "windmill                       110\n",
      "india mark iii                  97\n",
      "other - play pump               84\n",
      "cemo                            81\n",
      "walimi                          36\n",
      "climax                          32\n",
      "other - mkulima/shinyanga        2\n",
      "Name: Extraction_type, dtype: int64\n",
      "Extraction_type_class --- gravity         24079\n",
      "handpump        15461\n",
      "other            6224\n",
      "submersible      5926\n",
      "motorpump        2849\n",
      "rope pump         434\n",
      "wind-powered      110\n",
      "Name: Extraction_type_class, dtype: int64\n",
      "Extraction_type_group --- gravity            24079\n",
      "nira/tanira         7513\n",
      "other               6224\n",
      "submersible         5926\n",
      "swn 80              3458\n",
      "mono                2736\n",
      "india mark ii       2321\n",
      "afridev             1728\n",
      "rope pump            434\n",
      "other handpump       344\n",
      "other motorpump      113\n",
      "wind-powered         110\n",
      "india mark iii        97\n",
      "Name: Extraction_type_group, dtype: int64\n",
      "Management --- vwc                 37716\n",
      "wug                  5870\n",
      "water board          2668\n",
      "wua                  2330\n",
      "private operator     1927\n",
      "parastatal           1557\n",
      "water authority       852\n",
      "other                 789\n",
      "company               670\n",
      "unknown               534\n",
      "other - school         98\n",
      "trust                  72\n",
      "Name: Management, dtype: int64\n",
      "Management_group --- user-group    48584\n",
      "commercial     3521\n",
      "parastatal     1557\n",
      "other           887\n",
      "unknown         534\n",
      "Name: Management_group, dtype: int64\n",
      "Payment --- never pay                23441\n",
      "pay per bucket            8576\n",
      "unknown                   7725\n",
      "pay monthly               7373\n",
      "pay when scheme fails     3637\n",
      "pay annually              3395\n",
      "other                      936\n",
      "Name: Payment, dtype: int64\n",
      "Payment_type --- never pay     23441\n",
      "per bucket     8576\n",
      "unknown        7725\n",
      "monthly        7373\n",
      "on failure     3637\n",
      "annually       3395\n",
      "other           936\n",
      "Name: Payment_type, dtype: int64\n",
      "Quality_group --- good        46914\n",
      "salty        4898\n",
      "unknown      1841\n",
      "milky         790\n",
      "colored       436\n",
      "fluoride      204\n",
      "Name: Quality_group, dtype: int64\n",
      "Quantity --- enough          30786\n",
      "insufficient    13679\n",
      "dry              6209\n",
      "seasonal         3634\n",
      "unknown           775\n",
      "Name: Quantity, dtype: int64\n",
      "Quantity_group --- enough          30786\n",
      "insufficient    13679\n",
      "dry              6209\n",
      "seasonal         3634\n",
      "unknown           775\n",
      "Name: Quantity_group, dtype: int64\n",
      "Region_code --- 11    5177\n",
      "17    4373\n",
      "12    4135\n",
      "3     4057\n",
      "5     3740\n",
      "18    3020\n",
      "19    2869\n",
      "2     2850\n",
      "10    2476\n",
      "4     2440\n",
      "16    2213\n",
      "1     1992\n",
      "13    1965\n",
      "14    1932\n",
      "20    1909\n",
      "15    1673\n",
      "6     1593\n",
      "21    1487\n",
      "80    1160\n",
      "60    1005\n",
      "90     819\n",
      "7      802\n",
      "99     416\n",
      "9      369\n",
      "24     325\n",
      "8      285\n",
      "40       1\n",
      "Name: Region_code, dtype: int64\n",
      "Regionname --- region12    5171\n",
      "region6     4347\n",
      "region19    4135\n",
      "region15    4057\n",
      "region2     3706\n",
      "region1     3175\n",
      "region13    3012\n",
      "region21    2919\n",
      "region3     2599\n",
      "region5     2476\n",
      "region9     2474\n",
      "region14    2213\n",
      "region11    1992\n",
      "region7     1965\n",
      "region8     1914\n",
      "region18    1909\n",
      "region4     1673\n",
      "region20    1604\n",
      "region17    1487\n",
      "region16    1453\n",
      "region10     802\n",
      "Name: Regionname, dtype: int64\n",
      "Source --- shallow well            15867\n",
      "spring                  15745\n",
      "machine dbh             10584\n",
      "river                    8391\n",
      "rainwater harvesting     1981\n",
      "hand dtw                  857\n",
      "lake                      753\n",
      "dam                       632\n",
      "other                     211\n",
      "unknown                    62\n",
      "Name: Source, dtype: int64\n",
      "Source_class --- groundwater    43053\n",
      "surface        11757\n",
      "unknown          273\n",
      "Name: Source_class, dtype: int64\n",
      "Source_type --- shallow well            15867\n",
      "spring                  15745\n",
      "borehole                11441\n",
      "river/lake               9144\n",
      "rainwater harvesting     1981\n",
      "dam                       632\n",
      "other                     273\n",
      "Name: Source_type, dtype: int64\n",
      "Status --- functional        25808\n",
      "non functional    18260\n",
      "None              11015\n",
      "Name: Status, dtype: int64\n",
      "Water_quality --- soft                  46914\n",
      "salty                  4631\n",
      "unknown                1841\n",
      "milky                   790\n",
      "coloured                436\n",
      "salty abandoned         267\n",
      "fluoride                187\n",
      "fluoride abandoned       17\n",
      "Name: Water_quality, dtype: int64\n",
      "Waterpoint_type --- communal standpipe             26262\n",
      "hand pump                      16459\n",
      "other                           6087\n",
      "communal standpipe multiple     5455\n",
      "improved spring                  699\n",
      "cattle trough                    114\n",
      "dam                                7\n",
      "Name: Waterpoint_type, dtype: int64\n",
      "Waterpoint_type_group --- communal standpipe    31717\n",
      "hand pump             16459\n",
      "other                  6087\n",
      "improved spring         699\n",
      "cattle trough           114\n",
      "dam                       7\n",
      "Name: Waterpoint_type_group, dtype: int64\n"
     ]
    }
   ],
   "source": [
    "for c in data_train.columns:\n",
    "    if data_train[c].dtype.name =='category':\n",
    "        print(\"%s ---\" % c,data_train[c].value_counts())"
   ]
  },
  {
   "cell_type": "code",
   "execution_count": null,
   "metadata": {},
   "outputs": [],
   "source": []
  },
  {
   "cell_type": "markdown",
   "metadata": {},
   "source": [
    "## Numeric Data"
   ]
  },
  {
   "cell_type": "code",
   "execution_count": 38,
   "metadata": {},
   "outputs": [
    {
     "data": {
      "text/plain": [
       "<matplotlib.axes._subplots.AxesSubplot at 0xb08c0ef6d8>"
      ]
     },
     "execution_count": 38,
     "metadata": {},
     "output_type": "execute_result"
    },
    {
     "data": {
      "image/png": "[encoded data removed]",
      "text/plain": [
       "<Figure size 864x720 with 4 Axes>"
      ]
     },
     "metadata": {},
     "output_type": "display_data"
    }
   ],
   "source": [
    "fig, axes = plt.subplots(nrows=2,ncols=2)\n",
    "\n",
    "fig.set_size_inches(12, 10)\n",
    "\n",
    "sns.boxplot(data=data_train,y=\"Amount_of_water\",x='Status',orient=\"v\",ax=axes[0][0]) \n",
    "sns.boxplot(data=data_train,y=\"Gps_height\",x='Status',orient=\"v\",ax=axes[0][1])\n",
    "    \n",
    "sns.boxplot(data=data_train,y=\"Population\",x=\"Status\",orient=\"v\",ax=axes[1][0])\n",
    "\n"
   ]
  },
  {
   "cell_type": "code",
   "execution_count": null,
   "metadata": {},
   "outputs": [],
   "source": []
  },
  {
   "cell_type": "code",
   "execution_count": 39,
   "metadata": {
    "scrolled": false
   },
   "outputs": [
    {
     "name": "stderr",
     "output_type": "stream",
     "text": [
      "C:\\ProgramData\\Anaconda3\\lib\\site-packages\\matplotlib\\axes\\_axes.py:6462: UserWarning: The 'normed' kwarg is deprecated, and has been replaced by the 'density' kwarg.\n",
      "  warnings.warn(\"The 'normed' kwarg is deprecated, and has been \"\n"
     ]
    },
    {
     "data": {
      "text/plain": [
       "<matplotlib.axes._subplots.AxesSubplot at 0xb08c70eb70>"
      ]
     },
     "execution_count": 39,
     "metadata": {},
     "output_type": "execute_result"
    },
    {
     "data": {
      "image/png": "[encoded data removed]",
      "text/plain": [
       "<Figure size 432x288 with 1 Axes>"
      ]
     },
     "metadata": {},
     "output_type": "display_data"
    }
   ],
   "source": [
    "sns.distplot(data_train.Amount_of_water)"
   ]
  },
  {
   "cell_type": "code",
   "execution_count": 40,
   "metadata": {},
   "outputs": [
    {
     "name": "stderr",
     "output_type": "stream",
     "text": [
      "C:\\ProgramData\\Anaconda3\\lib\\site-packages\\matplotlib\\axes\\_axes.py:6462: UserWarning: The 'normed' kwarg is deprecated, and has been replaced by the 'density' kwarg.\n",
      "  warnings.warn(\"The 'normed' kwarg is deprecated, and has been \"\n"
     ]
    },
    {
     "data": {
      "text/plain": [
       "<matplotlib.axes._subplots.AxesSubplot at 0xb08cdad0f0>"
      ]
     },
     "execution_count": 40,
     "metadata": {},
     "output_type": "execute_result"
    },
    {
     "data": {
      "image/png": "[encoded data removed]",
      "text/plain": [
       "<Figure size 432x288 with 1 Axes>"
      ]
     },
     "metadata": {},
     "output_type": "display_data"
    }
   ],
   "source": [
    "sns.distplot(data_train.Gps_height)"
   ]
  },
  {
   "cell_type": "code",
   "execution_count": 41,
   "metadata": {},
   "outputs": [
    {
     "name": "stderr",
     "output_type": "stream",
     "text": [
      "C:\\ProgramData\\Anaconda3\\lib\\site-packages\\matplotlib\\axes\\_axes.py:6462: UserWarning: The 'normed' kwarg is deprecated, and has been replaced by the 'density' kwarg.\n",
      "  warnings.warn(\"The 'normed' kwarg is deprecated, and has been \"\n"
     ]
    },
    {
     "data": {
      "text/plain": [
       "<matplotlib.axes._subplots.AxesSubplot at 0xb08c70ed30>"
      ]
     },
     "execution_count": 41,
     "metadata": {},
     "output_type": "execute_result"
    },
    {
     "data": {
      "image/png": "[encoded data removed]",
      "text/plain": [
       "<Figure size 432x288 with 1 Axes>"
      ]
     },
     "metadata": {},
     "output_type": "display_data"
    }
   ],
   "source": [
    "sns.distplot(data_train.Population)"
   ]
  },
  {
   "cell_type": "code",
   "execution_count": 42,
   "metadata": {},
   "outputs": [],
   "source": [
    "#combining train and test data to do standardizing for numerical attributes\n",
    "yy =  data_train[['Population','Gps_height','Amount_of_water']]\n",
    "\n",
    "from sklearn import preprocessing\n",
    "x = yy.values #returns a numpy array\n",
    "min_max_scaler = preprocessing.MinMaxScaler()\n",
    "x_scaled = min_max_scaler.fit_transform(x)\n",
    "df = pd.DataFrame(x_scaled)\n",
    "df.columns = ['Population','Gps_height','Amount_of_water']\n",
    "#f#f['Population'] = df['Population']\n",
    "#f#f['Gps_height'] = df['Gps_height']\n",
    "#ff['Amount_of_water'] = df['Amount_of_water']\n",
    "#jj = ff.head(2648)\n",
    "#jj.shape"
   ]
  },
  {
   "cell_type": "markdown",
   "metadata": {},
   "source": [
    "### Standardized data"
   ]
  },
  {
   "cell_type": "code",
   "execution_count": 43,
   "metadata": {},
   "outputs": [
    {
     "name": "stderr",
     "output_type": "stream",
     "text": [
      "C:\\ProgramData\\Anaconda3\\lib\\site-packages\\matplotlib\\axes\\_axes.py:6462: UserWarning: The 'normed' kwarg is deprecated, and has been replaced by the 'density' kwarg.\n",
      "  warnings.warn(\"The 'normed' kwarg is deprecated, and has been \"\n",
      "C:\\ProgramData\\Anaconda3\\lib\\site-packages\\matplotlib\\axes\\_axes.py:6462: UserWarning: The 'normed' kwarg is deprecated, and has been replaced by the 'density' kwarg.\n",
      "  warnings.warn(\"The 'normed' kwarg is deprecated, and has been \"\n",
      "C:\\ProgramData\\Anaconda3\\lib\\site-packages\\matplotlib\\axes\\_axes.py:6462: UserWarning: The 'normed' kwarg is deprecated, and has been replaced by the 'density' kwarg.\n",
      "  warnings.warn(\"The 'normed' kwarg is deprecated, and has been \"\n"
     ]
    },
    {
     "data": {
      "text/plain": [
       "<matplotlib.axes._subplots.AxesSubplot at 0xb08d0ebe80>"
      ]
     },
     "execution_count": 43,
     "metadata": {},
     "output_type": "execute_result"
    },
    {
     "data": {
      "image/png": "[encoded data removed]",
      "text/plain": [
       "<Figure size 864x720 with 4 Axes>"
      ]
     },
     "metadata": {},
     "output_type": "display_data"
    }
   ],
   "source": [
    "fig, axes = plt.subplots(nrows=2,ncols=2)\n",
    "\n",
    "fig.set_size_inches(12, 10)\n",
    "\n",
    "sns.distplot(df.Amount_of_water,ax=axes[0][0]) \n",
    "sns.distplot(df.Gps_height,ax=axes[1][0]) \n",
    "sns.distplot(df.Population,ax=axes[0][1]) \n",
    "\n"
   ]
  },
  {
   "cell_type": "code",
   "execution_count": 44,
   "metadata": {
    "scrolled": true
   },
   "outputs": [
    {
     "data": {
      "text/plain": [
       "0.00         38591\n",
       "500.00        2828\n",
       "50.00         2365\n",
       "1000.00       1402\n",
       "20.00         1387\n",
       "200.00        1100\n",
       "10.00          790\n",
       "100.00         756\n",
       "30.00          708\n",
       "2000.00        673\n",
       "300.00         499\n",
       "5000.00        416\n",
       "250.00         415\n",
       "5.00           376\n",
       "25.00          338\n",
       "3000.00        296\n",
       "1200.00        253\n",
       "6.00           187\n",
       "1500.00        187\n",
       "4000.00        146\n",
       "2400.00        142\n",
       "2500.00        135\n",
       "6000.00        121\n",
       "600.00         104\n",
       "7.00            69\n",
       "40.00           58\n",
       "8000.00         57\n",
       "10000.00        56\n",
       "750.00          50\n",
       "12000.00        48\n",
       "             ...  \n",
       "16300.00         2\n",
       "11000.00         2\n",
       "26000.00         2\n",
       "100000.00        2\n",
       "13000.00         2\n",
       "800.00           2\n",
       "16000.00         2\n",
       "0.25             1\n",
       "59.00            1\n",
       "26.00            1\n",
       "12.00            1\n",
       "350000.00        1\n",
       "9.00             1\n",
       "306.00           1\n",
       "138000.00        1\n",
       "5400.00          1\n",
       "70000.00         1\n",
       "900.00           1\n",
       "200000.00        1\n",
       "120000.00        1\n",
       "1400.00          1\n",
       "250000.00        1\n",
       "38000.00         1\n",
       "8500.00          1\n",
       "6300.00          1\n",
       "60000.00         1\n",
       "53.00            1\n",
       "4500.00          1\n",
       "220.00           1\n",
       "170000.00        1\n",
       "Name: Public_meeting, Length: 98, dtype: int64"
      ]
     },
     "execution_count": 44,
     "metadata": {},
     "output_type": "execute_result"
    }
   ],
   "source": [
    "data_train.Public_meeting.value_counts()"
   ]
  },
  {
   "cell_type": "code",
   "execution_count": 45,
   "metadata": {},
   "outputs": [
    {
     "data": {
      "text/plain": [
       "Index(['Amount_of_water', 'Basin_name', 'District_code', 'Extraction_type',\n",
       "       'Extraction_type_class', 'Extraction_type_group', 'Gps_height', 'Id',\n",
       "       'Management', 'Management_group', 'Organization_surveyed', 'Payment',\n",
       "       'Payment_type', 'Permit', 'Population', 'Public_meeting',\n",
       "       'Quality_group', 'Quantity', 'Quantity_group', 'Region_code',\n",
       "       'Regionname', 'Scheme_management', 'Source', 'Source_class',\n",
       "       'Source_type', 'Status', 'Water_quality', 'Waterpoint_type',\n",
       "       'Waterpoint_type_group'],\n",
       "      dtype='object')"
      ]
     },
     "execution_count": 45,
     "metadata": {},
     "output_type": "execute_result"
    }
   ],
   "source": [
    "data_train.columns"
   ]
  },
  {
   "cell_type": "code",
   "execution_count": 46,
   "metadata": {},
   "outputs": [],
   "source": [
    "data_dummies = data_train[[\"Waterpoint_type\",\"Basin_name\",\"Management_group\",\"Region_code\",\"Permit\",\n",
    "                       \"Extraction_type_class\",\"Extraction_type_group\",\"Payment\",\"Quality_group\",\"Source_type\",\"Quantity\",\n",
    "                          \"Water_quality\",\"Source_class\"]]"
   ]
  },
  {
   "cell_type": "code",
   "execution_count": 47,
   "metadata": {},
   "outputs": [
    {
     "data": {
      "text/plain": [
       "enough          30786\n",
       "insufficient    13679\n",
       "dry              6209\n",
       "seasonal         3634\n",
       "unknown           775\n",
       "Name: Quantity, dtype: int64"
      ]
     },
     "execution_count": 47,
     "metadata": {},
     "output_type": "execute_result"
    }
   ],
   "source": [
    "data_train.Quantity.value_counts()"
   ]
  },
  {
   "cell_type": "code",
   "execution_count": 48,
   "metadata": {},
   "outputs": [],
   "source": [
    "dummies = pd.get_dummies(data_dummies)"
   ]
  },
  {
   "cell_type": "code",
   "execution_count": 49,
   "metadata": {},
   "outputs": [],
   "source": [
    "dummies_num = dummies\n",
    "dummies_num['Amount_of_water'] = df.Amount_of_water\n",
    "dummies_num[\"Gps_height\"] = df.Gps_height\n",
    "dummies_num['Population']= df.Population\n",
    "dummies_num['Status']= data_train.Status\n",
    "data_for_model = dummies_num"
   ]
  },
  {
   "cell_type": "code",
   "execution_count": 50,
   "metadata": {},
   "outputs": [],
   "source": [
    "real_test_data = data_for_model.tail(11015)\n",
    "data_for_model.drop(data_for_model.tail(11015).index, inplace=True)"
   ]
  },
  {
   "cell_type": "code",
   "execution_count": 51,
   "metadata": {},
   "outputs": [],
   "source": [
    "#data_for_model = data_for_model.fillna(data_for_model.mean())\n",
    "data_for_model['Status'] = data_for_model['Status'].map({'functional': 1, 'non functional':0})\n",
    "train_y = data_for_model[\"Status\"]\n",
    "data_for_model.drop(\"Status\",axis=1, inplace=True)"
   ]
  },
  {
   "cell_type": "code",
   "execution_count": 52,
   "metadata": {
    "scrolled": true
   },
   "outputs": [
    {
     "name": "stdout",
     "output_type": "stream",
     "text": [
      "(33051, 110)\n",
      "(11017, 110)\n",
      "(33051,)\n",
      "(11017,)\n"
     ]
    }
   ],
   "source": [
    "X_train, X_test, y_train, y_test = train_test_split(data_for_model, train_y, random_state=1)\n",
    "\n",
    "print(X_train.shape)\n",
    "print(X_test.shape)\n",
    "print(y_train.shape)\n",
    "print(y_test.shape)"
   ]
  },
  {
   "cell_type": "markdown",
   "metadata": {},
   "source": [
    "# Random Forest"
   ]
  },
  {
   "cell_type": "code",
   "execution_count": 53,
   "metadata": {},
   "outputs": [
    {
     "data": {
      "text/plain": [
       "RandomForestClassifier(bootstrap=True, class_weight=None, criterion='gini',\n",
       "            max_depth=None, max_features='auto', max_leaf_nodes=None,\n",
       "            min_impurity_decrease=0.0, min_impurity_split=None,\n",
       "            min_samples_leaf=1, min_samples_split=2,\n",
       "            min_weight_fraction_leaf=0.0, n_estimators=700, n_jobs=1,\n",
       "            oob_score=False, random_state=None, verbose=0,\n",
       "            warm_start=False)"
      ]
     },
     "execution_count": 53,
     "metadata": {},
     "output_type": "execute_result"
    }
   ],
   "source": [
    "from sklearn.ensemble import RandomForestClassifier\n",
    "RF_clf = RandomForestClassifier(n_estimators=700)\n",
    "RF_clf.fit(X_train, y_train)"
   ]
  },
  {
   "cell_type": "code",
   "execution_count": 54,
   "metadata": {},
   "outputs": [
    {
     "name": "stdout",
     "output_type": "stream",
     "text": [
      "             precision    recall  f1-score   support\n",
      "\n",
      "          0       0.83      0.75      0.79      4607\n",
      "          1       0.83      0.89      0.86      6410\n",
      "\n",
      "avg / total       0.83      0.83      0.83     11017\n",
      "\n",
      "0.8322592357266043\n"
     ]
    }
   ],
   "source": [
    "#predicting on train and test data\n",
    "y_rf_pred_test = RF_clf.predict(X_test)\n",
    "y_rf_pred_train = RF_clf.predict(X_train)\n",
    "from sklearn.metrics import classification_report\n",
    "from sklearn.metrics import confusion_matrix\n",
    "print(classification_report(y_test, y_rf_pred_test))\n",
    "print(metrics.accuracy_score(y_test, y_rf_pred_test))"
   ]
  },
  {
   "cell_type": "code",
   "execution_count": 55,
   "metadata": {},
   "outputs": [
    {
     "data": {
      "text/plain": [
       "<matplotlib.axes._subplots.AxesSubplot at 0xb08df035f8>"
      ]
     },
     "execution_count": 55,
     "metadata": {},
     "output_type": "execute_result"
    },
    {
     "data": {
      "image/png": "[encoded data removed]",
      "text/plain": [
       "<Figure size 432x288 with 1 Axes>"
      ]
     },
     "metadata": {},
     "output_type": "display_data"
    }
   ],
   "source": [
    "feat_importances = pd.Series(RF_clf.feature_importances_, index=X_train.columns)\n",
    "feat_importances = feat_importances.sort_values(ascending=False)\n",
    "feat_importances.nlargest(10).plot(kind='barh')"
   ]
  },
  {
   "cell_type": "markdown",
   "metadata": {},
   "source": [
    "## Predicting on Real Test data"
   ]
  },
  {
   "cell_type": "code",
   "execution_count": 56,
   "metadata": {},
   "outputs": [
    {
     "name": "stderr",
     "output_type": "stream",
     "text": [
      "C:\\ProgramData\\Anaconda3\\lib\\site-packages\\pandas\\core\\frame.py:3694: SettingWithCopyWarning: \n",
      "A value is trying to be set on a copy of a slice from a DataFrame\n",
      "\n",
      "See the caveats in the documentation: http://pandas.pydata.org/pandas-docs/stable/indexing.html#indexing-view-versus-copy\n",
      "  errors=errors)\n"
     ]
    }
   ],
   "source": [
    "real_test_data.drop(\"Status\",axis=1,inplace=True)"
   ]
  },
  {
   "cell_type": "code",
   "execution_count": 57,
   "metadata": {
    "scrolled": true
   },
   "outputs": [
    {
     "data": {
      "text/plain": [
       "array([0, 1, 1, ..., 1, 0, 1], dtype=int64)"
      ]
     },
     "execution_count": 57,
     "metadata": {},
     "output_type": "execute_result"
    }
   ],
   "source": [
    "RF_clf.predict(real_test_data)"
   ]
  },
  {
   "cell_type": "code",
   "execution_count": 58,
   "metadata": {},
   "outputs": [
    {
     "name": "stderr",
     "output_type": "stream",
     "text": [
      "C:\\ProgramData\\Anaconda3\\lib\\site-packages\\ipykernel_launcher.py:6: SettingWithCopyWarning: \n",
      "A value is trying to be set on a copy of a slice from a DataFrame.\n",
      "Try using .loc[row_indexer,col_indexer] = value instead\n",
      "\n",
      "See the caveats in the documentation: http://pandas.pydata.org/pandas-docs/stable/indexing.html#indexing-view-versus-copy\n",
      "  \n",
      "C:\\ProgramData\\Anaconda3\\lib\\site-packages\\ipykernel_launcher.py:7: SettingWithCopyWarning: \n",
      "A value is trying to be set on a copy of a slice from a DataFrame.\n",
      "Try using .loc[row_indexer,col_indexer] = value instead\n",
      "\n",
      "See the caveats in the documentation: http://pandas.pydata.org/pandas-docs/stable/indexing.html#indexing-view-versus-copy\n",
      "  import sys\n"
     ]
    }
   ],
   "source": [
    "probs_rf = RF_clf.predict_proba(real_test_data)\n",
    "probs = probs_rf[:,1]  #taking a column\n",
    "probs[probs > 0.5] =1  #setting thresholds\n",
    "probs[probs <= 0.5] = 0\n",
    "submission = data_test[[\"Id\"]]\n",
    "submission['Status'] = probs\n",
    "submission['Status'] = submission['Status'].map({1:\"functional\",0:\"non functional\"})\n",
    "submission.to_csv(\"predictions_naveen_gandla.csv\",index=False)"
   ]
  },
  {
   "cell_type": "markdown",
   "metadata": {},
   "source": [
    "# Random Forest with Hyper parameter tuning"
   ]
  },
  {
   "cell_type": "code",
   "execution_count": 74,
   "metadata": {},
   "outputs": [
    {
     "name": "stdout",
     "output_type": "stream",
     "text": [
      "0.7662703095216483\n",
      "DecisionTreeClassifier(class_weight=None, criterion='gini', max_depth=27,\n",
      "            max_features=None, max_leaf_nodes=23,\n",
      "            min_impurity_decrease=0.0, min_impurity_split=None,\n",
      "            min_samples_leaf=1, min_samples_split=0.014000000000000002,\n",
      "            min_weight_fraction_leaf=0.01, presort=False,\n",
      "            random_state=None, splitter='best')\n",
      "train Acuuracy 0.7680554294877613\n",
      "Test Accuracy 0.769719524371426\n"
     ]
    }
   ],
   "source": [
    "from sklearn.model_selection import RandomizedSearchCV\n",
    "model_tree_tuned=DecisionTreeClassifier()\n",
    "param_grid={\"max_leaf_nodes\":np.arange(5,30,1),\n",
    "            'min_samples_split': np.arange(0.001,0.1,0.001),\n",
    "            'max_depth':np.arange(5,50,1),\n",
    "            'min_weight_fraction_leaf':np.arange(0.01,0.25,0.005)}\n",
    "rsearch = RandomizedSearchCV(estimator=model_tree_tuned, param_distributions=param_grid,n_iter=500)\n",
    "rsearch.fit(X_train,y_train)\n",
    "print(rsearch.best_score_)\n",
    "print(rsearch.best_estimator_)\n",
    "print(\"train Acuuracy\",rsearch.score(X_train,y_train))\n",
    "print('Test Accuracy',rsearch.score(X_test, y_test))"
   ]
  },
  {
   "cell_type": "markdown",
   "metadata": {},
   "source": [
    "### Logistic Regression"
   ]
  },
  {
   "cell_type": "code",
   "execution_count": 59,
   "metadata": {},
   "outputs": [],
   "source": [
    "# import and instantiate a logistic regression model\n",
    "from sklearn.linear_model import LogisticRegression\n",
    "seed=12\n",
    "logreg = LogisticRegression(C=1, random_state=12, class_weight='balanced')"
   ]
  },
  {
   "cell_type": "code",
   "execution_count": 60,
   "metadata": {},
   "outputs": [
    {
     "data": {
      "text/plain": [
       "LogisticRegression(C=1, class_weight='balanced', dual=False,\n",
       "          fit_intercept=True, intercept_scaling=1, max_iter=100,\n",
       "          multi_class='ovr', n_jobs=1, penalty='l2', random_state=12,\n",
       "          solver='liblinear', tol=0.0001, verbose=0, warm_start=False)"
      ]
     },
     "execution_count": 60,
     "metadata": {},
     "output_type": "execute_result"
    }
   ],
   "source": [
    "logreg.fit(X_train, y_train)"
   ]
  },
  {
   "cell_type": "code",
   "execution_count": 61,
   "metadata": {},
   "outputs": [
    {
     "data": {
      "image/png": "[encoded data removed]",
      "text/plain": [
       "<Figure size 432x288 with 1 Axes>"
      ]
     },
     "metadata": {},
     "output_type": "display_data"
    }
   ],
   "source": [
    "from sklearn.metrics import roc_auc_score\n",
    "from sklearn.metrics import roc_curve\n",
    "logit_roc_auc = roc_auc_score(y_test, logreg.predict(X_test))\n",
    "fpr, tpr, thresholds = roc_curve(train_y, logreg.predict_proba(data_for_model)[:,1])\n",
    "plt.figure()\n",
    "plt.plot(fpr, tpr, label='Logistic Regression (area = %0.2f)' % logit_roc_auc)\n",
    "plt.plot([0, 1], [0, 1],'r--')\n",
    "plt.xlim([0.0, 1.0])\n",
    "plt.ylim([0.0, 1.05])\n",
    "plt.xlabel('False Positive Rate')\n",
    "plt.ylabel('True Positive Rate')\n",
    "plt.title('Receiver operating characteristic')\n",
    "plt.legend(loc=\"lower right\")\n",
    "#plt.savefig('Log_ROC')\n",
    "plt.show()"
   ]
  },
  {
   "cell_type": "code",
   "execution_count": 75,
   "metadata": {},
   "outputs": [
    {
     "name": "stdout",
     "output_type": "stream",
     "text": [
      "             precision    recall  f1-score   support\n",
      "\n",
      "          0       0.66      0.78      0.72      4607\n",
      "          1       0.82      0.71      0.76      6410\n",
      "\n",
      "avg / total       0.75      0.74      0.74     11017\n",
      "\n"
     ]
    }
   ],
   "source": [
    "y_log_pred_train = logreg.predict(X_train)\n",
    "ii = logreg.predict_proba(X_test)\n",
    "probs_log = ii[:,1]  #taking a column\n",
    "probs_log[probs_log > 0.6] =1  \n",
    "probs_log[probs_log <= 0.60] = 0\n",
    "y_log_pred_test = logreg.predict(X_test)\n",
    "y_log_pred_train=logreg.predict(X_train)\n",
    "print(classification_report(y_test, probs_log))"
   ]
  },
  {
   "cell_type": "code",
   "execution_count": 76,
   "metadata": {},
   "outputs": [
    {
     "name": "stdout",
     "output_type": "stream",
     "text": [
      "0.7668149223926659\n",
      "0.7738041209040574\n"
     ]
    }
   ],
   "source": [
    "print(metrics.accuracy_score(y_test, y_log_pred_test))\n",
    "print(metrics.accuracy_score(y_train,y_log_pred_train))"
   ]
  },
  {
   "cell_type": "markdown",
   "metadata": {},
   "source": [
    "# Xgboost"
   ]
  },
  {
   "cell_type": "code",
   "execution_count": 66,
   "metadata": {},
   "outputs": [
    {
     "data": {
      "text/plain": [
       "XGBClassifier(base_score=0.5, booster='gbtree', colsample_bylevel=1,\n",
       "       colsample_bytree=1, gamma=0, learning_rate=0.5, max_delta_step=0,\n",
       "       max_depth=3, min_child_weight=1, missing=None, n_estimators=300,\n",
       "       n_jobs=1, nthread=None, objective='binary:logistic', random_state=1,\n",
       "       reg_alpha=0, reg_lambda=1, scale_pos_weight=1, seed=None,\n",
       "       silent=True, subsample=1)"
      ]
     },
     "execution_count": 66,
     "metadata": {},
     "output_type": "execute_result"
    }
   ],
   "source": [
    "import xgboost as xgb\n",
    "from xgboost import XGBClassifier\n",
    "model_xgb=XGBClassifier(n_estimators=300,random_state=1,learning_rate=0.5)\n",
    "model_xgb.fit(X_train,y_train)"
   ]
  },
  {
   "cell_type": "code",
   "execution_count": 67,
   "metadata": {},
   "outputs": [
    {
     "name": "stderr",
     "output_type": "stream",
     "text": [
      "C:\\ProgramData\\Anaconda3\\lib\\site-packages\\sklearn\\preprocessing\\label.py:151: DeprecationWarning: The truth value of an empty array is ambiguous. Returning False, but in future this will result in an error. Use `array.size > 0` to check that an array is not empty.\n",
      "  if diff:\n"
     ]
    },
    {
     "name": "stdout",
     "output_type": "stream",
     "text": [
      "Train accuracy is  0.8485371093159058\n",
      "Test accuracy is 0.8195516020695289\n"
     ]
    },
    {
     "name": "stderr",
     "output_type": "stream",
     "text": [
      "C:\\ProgramData\\Anaconda3\\lib\\site-packages\\sklearn\\preprocessing\\label.py:151: DeprecationWarning: The truth value of an empty array is ambiguous. Returning False, but in future this will result in an error. Use `array.size > 0` to check that an array is not empty.\n",
      "  if diff:\n"
     ]
    }
   ],
   "source": [
    "print(\"Train accuracy is \",metrics.accuracy_score(y_train,model_xgb.predict(X_train)))\n",
    "print(\"Test accuracy is\",metrics.accuracy_score(y_test,model_xgb.predict(X_test)))"
   ]
  },
  {
   "cell_type": "markdown",
   "metadata": {},
   "source": [
    "# ADABOOST"
   ]
  },
  {
   "cell_type": "code",
   "execution_count": 68,
   "metadata": {},
   "outputs": [
    {
     "data": {
      "text/plain": [
       "AdaBoostClassifier(algorithm='SAMME.R', base_estimator=None,\n",
       "          learning_rate=0.5, n_estimators=300, random_state=1)"
      ]
     },
     "execution_count": 68,
     "metadata": {},
     "output_type": "execute_result"
    }
   ],
   "source": [
    "from sklearn.ensemble import AdaBoostClassifier\n",
    "model_ada=AdaBoostClassifier(random_state=1,n_estimators=300,learning_rate=0.5)\n",
    "model_ada.fit(X_train,y_train)"
   ]
  },
  {
   "cell_type": "code",
   "execution_count": 70,
   "metadata": {},
   "outputs": [
    {
     "name": "stdout",
     "output_type": "stream",
     "text": [
      "train accuracy 0.7825481831109498\n",
      "test accuracy 0.778705636743215\n"
     ]
    }
   ],
   "source": [
    "print(\"train accuracy\" , metrics.accuracy_score(y_train,model_ada.predict(X_train)))\n",
    "print(\"test accuracy\", metrics.accuracy_score(y_test,model_ada.predict(X_test)))"
   ]
  },
  {
   "cell_type": "code",
   "execution_count": null,
   "metadata": {},
   "outputs": [],
   "source": [
    "# out of all the models XGBOOST and Random Forest are giving best Acuuracy "
   ]
  }
 ],
 "metadata": {
  "kernelspec": {
   "display_name": "Python 3",
   "language": "python",
   "name": "python3"
  },
  "language_info": {
   "codemirror_mode": {
    "name": "ipython",
    "version": 3
   },
   "file_extension": ".py",
   "mimetype": "text/x-python",
   "name": "python",
   "nbconvert_exporter": "python",
   "pygments_lexer": "ipython3",
   "version": "3.6.5"
  }
 },
 "nbformat": 4,
 "nbformat_minor": 2
}
